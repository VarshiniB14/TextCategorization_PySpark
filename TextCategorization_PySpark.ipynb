{
  "nbformat": 4,
  "nbformat_minor": 0,
  "metadata": {
    "colab": {
      "provenance": [],
      "include_colab_link": true
    },
    "kernelspec": {
      "name": "python3",
      "display_name": "Python 3"
    },
    "language_info": {
      "name": "python"
    }
  },
  "cells": [
    {
      "cell_type": "markdown",
      "metadata": {
        "id": "view-in-github",
        "colab_type": "text"
      },
      "source": [
        "<a href=\"https://colab.research.google.com/github/VarshiniB14/TextCategorization_PySpark/blob/main/TextCategorization_PySpark.ipynb\" target=\"_parent\"><img src=\"https://colab.research.google.com/assets/colab-badge.svg\" alt=\"Open In Colab\"/></a>"
      ]
    },
    {
      "cell_type": "code",
      "execution_count": 1,
      "metadata": {
        "colab": {
          "base_uri": "https://localhost:8080/"
        },
        "id": "iBHhPx368nFa",
        "outputId": "db198d76-edf0-4736-dd64-5879ca0d0356"
      },
      "outputs": [
        {
          "output_type": "stream",
          "name": "stdout",
          "text": [
            "Collecting pyspark\n",
            "  Downloading pyspark-3.4.1.tar.gz (310.8 MB)\n",
            "\u001b[2K     \u001b[90m━━━━━━━━━━━━━━━━━━━━━━━━━━━━━━━━━━━━━━━\u001b[0m \u001b[32m310.8/310.8 MB\u001b[0m \u001b[31m4.1 MB/s\u001b[0m eta \u001b[36m0:00:00\u001b[0m\n",
            "\u001b[?25h  Preparing metadata (setup.py) ... \u001b[?25l\u001b[?25hdone\n",
            "Requirement already satisfied: py4j==0.10.9.7 in /usr/local/lib/python3.10/dist-packages (from pyspark) (0.10.9.7)\n",
            "Building wheels for collected packages: pyspark\n",
            "  Building wheel for pyspark (setup.py) ... \u001b[?25l\u001b[?25hdone\n",
            "  Created wheel for pyspark: filename=pyspark-3.4.1-py2.py3-none-any.whl size=311285387 sha256=4090cb3b5c32864fba5225d380361ab0edd8ce08c43db2aa85a96b339adf936e\n",
            "  Stored in directory: /root/.cache/pip/wheels/0d/77/a3/ff2f74cc9ab41f8f594dabf0579c2a7c6de920d584206e0834\n",
            "Successfully built pyspark\n",
            "Installing collected packages: pyspark\n",
            "Successfully installed pyspark-3.4.1\n"
          ]
        }
      ],
      "source": [
        "pip install pyspark"
      ]
    },
    {
      "cell_type": "code",
      "source": [
        "from pyspark.sql import SparkSession\n",
        "spark = SparkSession.builder.getOrCreate()\n",
        "spark"
      ],
      "metadata": {
        "colab": {
          "base_uri": "https://localhost:8080/",
          "height": 219
        },
        "id": "8Jpg4E8q8n51",
        "outputId": "17201bcb-4a3a-4ae7-e4e2-d2f7a58cfc71"
      },
      "execution_count": 2,
      "outputs": [
        {
          "output_type": "execute_result",
          "data": {
            "text/plain": [
              "<pyspark.sql.session.SparkSession at 0x7d8249f75420>"
            ],
            "text/html": [
              "\n",
              "            <div>\n",
              "                <p><b>SparkSession - in-memory</b></p>\n",
              "                \n",
              "        <div>\n",
              "            <p><b>SparkContext</b></p>\n",
              "\n",
              "            <p><a href=\"http://480f76451ad9:4040\">Spark UI</a></p>\n",
              "\n",
              "            <dl>\n",
              "              <dt>Version</dt>\n",
              "                <dd><code>v3.4.1</code></dd>\n",
              "              <dt>Master</dt>\n",
              "                <dd><code>local[*]</code></dd>\n",
              "              <dt>AppName</dt>\n",
              "                <dd><code>pyspark-shell</code></dd>\n",
              "            </dl>\n",
              "        </div>\n",
              "        \n",
              "            </div>\n",
              "        "
            ]
          },
          "metadata": {},
          "execution_count": 2
        }
      ]
    },
    {
      "cell_type": "code",
      "source": [
        "data = spark.read.csv(\"BDA.csv\",inferSchema=True,header=True)\n",
        "from pyspark.sql.functions import col\n",
        "\n",
        "data = data.withColumn('label', col('label').cast('int'))\n",
        "data = data.withColumn('rating(stars)', col('rating(stars)').cast('int'))\n",
        "# Replace 'column_name' with the name of the column you want to convert\n",
        "\n",
        "\n",
        "data.show()"
      ],
      "metadata": {
        "colab": {
          "base_uri": "https://localhost:8080/"
        },
        "id": "hmIFtfjR8qSn",
        "outputId": "de705929-f40b-4adf-f25d-83998ec8700f"
      },
      "execution_count": 3,
      "outputs": [
        {
          "output_type": "stream",
          "name": "stdout",
          "text": [
            "+-----+-------------+--------------------+-------------+-----------+\n",
            "|label|   Restaurant|              Review|rating(stars)|   Location|\n",
            "+-----+-------------+--------------------+-------------+-----------+\n",
            "|    1|  Eating Love|Loved the taste a...|            4|   Sarjapur|\n",
            "|    1|  Eating Love|Loved the quality...|            5|   Sarjapur|\n",
            "|    1|  Eating Love|Loved the food, s...|            5|   Sarjapur|\n",
            "|    1|  Eating Love|This place is a b...|            3|   Sarjapur|\n",
            "|    1|  Eating Love|Fabulous food, Ex...|            4|   Sarjapur|\n",
            "|    1|Napoli Bistro|Good Food !! I ha...|            5|        HSR|\n",
            "|    1|Napoli Bistro|very ordinary cru...|            1|        HSR|\n",
            "|    1|Napoli Bistro|Cold pizza delive...|            1|        HSR|\n",
            "|    1|Napoli Bistro|Absolutely fantas...|            5|        HSR|\n",
            "|    1|Napoli Bistro|if you are someon...|            3|        HSR|\n",
            "|    1|Napoli Bistro|I ordered the veg...|            3|        HSR|\n",
            "|    1|Napoli Bistro|napoli bistro was...|            2|        HSR|\n",
            "|    1| Little Italy|For an ₹800 pizza...|            1|Indiranagar|\n",
            "|    1|Little Italy |Superb food. Staf...|            5|Indiranagar|\n",
            "|    1| Little Italy|We often go to Li...|            5|Indiranagar|\n",
            "|    1|Little Italy |It's on th expens...|            3|Indiranagar|\n",
            "|    1|Little Italy |Liked the pasta,c...|            5|Indiranagar|\n",
            "|    1|Little Italy |Mango cheesecake ...|            2|Indiranagar|\n",
            "|    1|Little Italy |Service was good ...|            2|Indiranagar|\n",
            "|    1| Little Italy|Little Italy has ...|            4|Indiranagar|\n",
            "+-----+-------------+--------------------+-------------+-----------+\n",
            "only showing top 20 rows\n",
            "\n"
          ]
        }
      ]
    },
    {
      "cell_type": "code",
      "source": [
        "data.printSchema()"
      ],
      "metadata": {
        "colab": {
          "base_uri": "https://localhost:8080/"
        },
        "id": "f3Po-qSV5hch",
        "outputId": "0123982a-c4b4-4e81-9340-96b457fbfbdf"
      },
      "execution_count": 4,
      "outputs": [
        {
          "output_type": "stream",
          "name": "stdout",
          "text": [
            "root\n",
            " |-- label: integer (nullable = true)\n",
            " |-- Restaurant: string (nullable = true)\n",
            " |-- Review: string (nullable = true)\n",
            " |-- rating(stars): integer (nullable = true)\n",
            " |-- Location: string (nullable = true)\n",
            "\n"
          ]
        }
      ]
    },
    {
      "cell_type": "code",
      "source": [
        "data= data.na.drop(subset=['label'])\n",
        "data_no_missing_label = data.na.drop(subset=['label'])\n",
        "dropped_rows = data.exceptAll(data_no_missing_label)\n",
        "dropped_rows.show()"
      ],
      "metadata": {
        "colab": {
          "base_uri": "https://localhost:8080/"
        },
        "id": "nAw0SdTENYEy",
        "outputId": "88fc9003-d24e-4a0a-b6f1-3de801bdd4e9"
      },
      "execution_count": 5,
      "outputs": [
        {
          "output_type": "stream",
          "name": "stdout",
          "text": [
            "+-----+----------+------+-------------+--------+\n",
            "|label|Restaurant|Review|rating(stars)|Location|\n",
            "+-----+----------+------+-------------+--------+\n",
            "+-----+----------+------+-------------+--------+\n",
            "\n"
          ]
        }
      ]
    },
    {
      "cell_type": "code",
      "source": [
        "## No.of rows and columns in datafile\n",
        "rows=data.count()\n",
        "cols=len(data.columns)\n",
        "print('rows:' , rows)\n",
        "print('columns:' , cols)"
      ],
      "metadata": {
        "colab": {
          "base_uri": "https://localhost:8080/"
        },
        "id": "Vqxsaqs24DIv",
        "outputId": "afca7da0-3cd0-4ba7-c7fb-595fc4523d17"
      },
      "execution_count": 6,
      "outputs": [
        {
          "output_type": "stream",
          "name": "stdout",
          "text": [
            "rows: 260\n",
            "columns: 5\n"
          ]
        }
      ]
    },
    {
      "cell_type": "code",
      "source": [
        "#Concatenate 2 columns\n",
        "from pyspark.sql.functions import concat_ws\n",
        "\n",
        "df = data.select('label', concat_ws(' ',data.Restaurant, data.Review).alias('Text'))\n",
        "\n",
        "df=df.select('label','Text')\n",
        "df.show(10)"
      ],
      "metadata": {
        "colab": {
          "base_uri": "https://localhost:8080/"
        },
        "id": "n5SKRdg48yTX",
        "outputId": "07386e16-c3d3-41da-b186-1d84c7d89adf"
      },
      "execution_count": 7,
      "outputs": [
        {
          "output_type": "stream",
          "name": "stdout",
          "text": [
            "+-----+--------------------+\n",
            "|label|                Text|\n",
            "+-----+--------------------+\n",
            "|    1|Eating Love Loved...|\n",
            "|    1|Eating Love Loved...|\n",
            "|    1|Eating Love Loved...|\n",
            "|    1|Eating Love This ...|\n",
            "|    1|Eating Love Fabul...|\n",
            "|    1|Napoli Bistro Goo...|\n",
            "|    1|Napoli Bistro ver...|\n",
            "|    1|Napoli Bistro Col...|\n",
            "|    1|Napoli Bistro Abs...|\n",
            "|    1|Napoli Bistro if ...|\n",
            "+-----+--------------------+\n",
            "only showing top 10 rows\n",
            "\n"
          ]
        }
      ]
    },
    {
      "cell_type": "code",
      "source": [
        "## remove null values:\n",
        "from pyspark.sql.functions import col\n",
        "df=df.filter(col(\"text\").isNotNull())\n"
      ],
      "metadata": {
        "id": "fo9HFrFT4bt6"
      },
      "execution_count": 8,
      "outputs": []
    },
    {
      "cell_type": "code",
      "source": [
        "# Tokenizer\n",
        "from pyspark.ml.feature import Tokenizer\n",
        "tokenizer =Tokenizer(inputCol=\"Text\", outputCol=\"words\")\n",
        "\n",
        "# adds a column 'words' to df after tokenization\n",
        "df = tokenizer.transform(df)\n",
        "\n",
        "df.select(['label','Text', 'words']).show(10)"
      ],
      "metadata": {
        "colab": {
          "base_uri": "https://localhost:8080/"
        },
        "id": "7VXlNe249UeN",
        "outputId": "308d84c8-c8a5-4a65-e822-206a9e37330d"
      },
      "execution_count": 9,
      "outputs": [
        {
          "output_type": "stream",
          "name": "stdout",
          "text": [
            "+-----+--------------------+--------------------+\n",
            "|label|                Text|               words|\n",
            "+-----+--------------------+--------------------+\n",
            "|    1|Eating Love Loved...|[eating, love, lo...|\n",
            "|    1|Eating Love Loved...|[eating, love, lo...|\n",
            "|    1|Eating Love Loved...|[eating, love, lo...|\n",
            "|    1|Eating Love This ...|[eating, love, th...|\n",
            "|    1|Eating Love Fabul...|[eating, love, fa...|\n",
            "|    1|Napoli Bistro Goo...|[napoli, bistro, ...|\n",
            "|    1|Napoli Bistro ver...|[napoli, bistro, ...|\n",
            "|    1|Napoli Bistro Col...|[napoli, bistro, ...|\n",
            "|    1|Napoli Bistro Abs...|[napoli, bistro, ...|\n",
            "|    1|Napoli Bistro if ...|[napoli, bistro, ...|\n",
            "+-----+--------------------+--------------------+\n",
            "only showing top 10 rows\n",
            "\n"
          ]
        }
      ]
    },
    {
      "cell_type": "code",
      "source": [
        "# StopWord Removal\n",
        "from pyspark.ml.feature import StopWordsRemover\n",
        "stopwords_remover=StopWordsRemover(inputCol=\"words\", outputCol=\"filtered\")\n",
        "\n",
        "# adds a column 'filtered' to df without stopwords\n",
        "df = stopwords_remover.transform(df)\n",
        "\n",
        "df.select(['label','Text', 'words', 'filtered']).show(10)"
      ],
      "metadata": {
        "colab": {
          "base_uri": "https://localhost:8080/"
        },
        "id": "nDlaGfQD84Q-",
        "outputId": "39e07067-801d-433a-b36a-fbed83d4ca48"
      },
      "execution_count": 10,
      "outputs": [
        {
          "output_type": "stream",
          "name": "stdout",
          "text": [
            "+-----+--------------------+--------------------+--------------------+\n",
            "|label|                Text|               words|            filtered|\n",
            "+-----+--------------------+--------------------+--------------------+\n",
            "|    1|Eating Love Loved...|[eating, love, lo...|[eating, love, lo...|\n",
            "|    1|Eating Love Loved...|[eating, love, lo...|[eating, love, lo...|\n",
            "|    1|Eating Love Loved...|[eating, love, lo...|[eating, love, lo...|\n",
            "|    1|Eating Love This ...|[eating, love, th...|[eating, love, pl...|\n",
            "|    1|Eating Love Fabul...|[eating, love, fa...|[eating, love, fa...|\n",
            "|    1|Napoli Bistro Goo...|[napoli, bistro, ...|[napoli, bistro, ...|\n",
            "|    1|Napoli Bistro ver...|[napoli, bistro, ...|[napoli, bistro, ...|\n",
            "|    1|Napoli Bistro Col...|[napoli, bistro, ...|[napoli, bistro, ...|\n",
            "|    1|Napoli Bistro Abs...|[napoli, bistro, ...|[napoli, bistro, ...|\n",
            "|    1|Napoli Bistro if ...|[napoli, bistro, ...|[napoli, bistro, ...|\n",
            "+-----+--------------------+--------------------+--------------------+\n",
            "only showing top 10 rows\n",
            "\n"
          ]
        }
      ]
    },
    {
      "cell_type": "code",
      "source": [
        "## TF-IDF\n",
        "from pyspark.ml.feature import HashingTF, IDF # vectorizer\n",
        "hashing_tf = HashingTF(inputCol=\"filtered\",outputCol=\"raw_features\",numFeatures=10000)\n",
        "\n",
        "# adds raw tf features to df\n",
        "featurized_data = hashing_tf.transform(df)"
      ],
      "metadata": {
        "id": "4M8jSZiH86wR"
      },
      "execution_count": 11,
      "outputs": []
    },
    {
      "cell_type": "code",
      "source": [
        "#Inverse document frequency\n",
        "idf = IDF(inputCol=\"raw_features\", outputCol=\"features\")\n",
        "\n",
        "idf_vectorizer = idf.fit(featurized_data)\n",
        "\n",
        "# converting text to vectors\n",
        "rescaled_data = idf_vectorizer.transform(featurized_data)\n",
        "\n",
        "# top 20 rows\n",
        "rescaled_data.select(\"label\",'Text', 'words', 'filtered', \"features\").show()"
      ],
      "metadata": {
        "colab": {
          "base_uri": "https://localhost:8080/"
        },
        "id": "LZUd8g0y9vdK",
        "outputId": "e2cc89f2-bcd7-487d-a578-c01532d53ab6"
      },
      "execution_count": 12,
      "outputs": [
        {
          "output_type": "stream",
          "name": "stdout",
          "text": [
            "+-----+--------------------+--------------------+--------------------+--------------------+\n",
            "|label|                Text|               words|            filtered|            features|\n",
            "+-----+--------------------+--------------------+--------------------+--------------------+\n",
            "|    1|Eating Love Loved...|[eating, love, lo...|[eating, love, lo...|(10000,[903,3789,...|\n",
            "|    1|Eating Love Loved...|[eating, love, lo...|[eating, love, lo...|(10000,[903,2252,...|\n",
            "|    1|Eating Love Loved...|[eating, love, lo...|[eating, love, lo...|(10000,[20,903,15...|\n",
            "|    1|Eating Love This ...|[eating, love, th...|[eating, love, pl...|(10000,[903,1989,...|\n",
            "|    1|Eating Love Fabul...|[eating, love, fa...|[eating, love, fa...|(10000,[842,903,1...|\n",
            "|    1|Napoli Bistro Goo...|[napoli, bistro, ...|[napoli, bistro, ...|(10000,[826,1023,...|\n",
            "|    1|Napoli Bistro ver...|[napoli, bistro, ...|[napoli, bistro, ...|(10000,[2180,2710...|\n",
            "|    1|Napoli Bistro Col...|[napoli, bistro, ...|[napoli, bistro, ...|(10000,[3787,3920...|\n",
            "|    1|Napoli Bistro Abs...|[napoli, bistro, ...|[napoli, bistro, ...|(10000,[1790,2900...|\n",
            "|    1|Napoli Bistro if ...|[napoli, bistro, ...|[napoli, bistro, ...|(10000,[412,815,1...|\n",
            "|    1|Napoli Bistro I o...|[napoli, bistro, ...|[napoli, bistro, ...|(10000,[359,2838,...|\n",
            "|    1|Napoli Bistro nap...|[napoli, bistro, ...|[napoli, bistro, ...|(10000,[3535,4890...|\n",
            "|    1|Little Italy For ...|[little, italy, f...|[little, italy, ₹...|(10000,[815,859,1...|\n",
            "|    1|Little Italy  Sup...|[little, italy, ,...|[little, italy, ,...|(10000,[468,1590,...|\n",
            "|    1|Little Italy We o...|[little, italy, w...|[little, italy, o...|(10000,[7,876,973...|\n",
            "|    1|Little Italy  It'...|[little, italy, ,...|[little, italy, ,...|(10000,[1480,1590...|\n",
            "|    1|Little Italy  Lik...|[little, italy, ,...|[little, italy, ,...|(10000,[95,1590,2...|\n",
            "|    1|Little Italy  Man...|[little, italy, ,...|[little, italy, ,...|(10000,[1590,3080...|\n",
            "|    1|Little Italy  Ser...|[little, italy, ,...|[little, italy, ,...|(10000,[1590,2252...|\n",
            "|    1|Little Italy Litt...|[little, italy, l...|[little, italy, l...|(10000,[763,1590,...|\n",
            "+-----+--------------------+--------------------+--------------------+--------------------+\n",
            "only showing top 20 rows\n",
            "\n"
          ]
        }
      ]
    },
    {
      "cell_type": "code",
      "source": [
        "# Split Train/Test data\n",
        "(train, test) = rescaled_data.randomSplit([0.75, 0.25],seed = 202)\n",
        "print(\"Train Data: \" + str(train.count()))\n",
        "print(\"Test Data : \" + str(test.count()))"
      ],
      "metadata": {
        "colab": {
          "base_uri": "https://localhost:8080/"
        },
        "id": "b0EWzBIV9xtT",
        "outputId": "6eaa457d-a49b-4e65-9bc1-70fc21e2c835"
      },
      "execution_count": 13,
      "outputs": [
        {
          "output_type": "stream",
          "name": "stdout",
          "text": [
            "Train Data: 189\n",
            "Test Data : 71\n"
          ]
        }
      ]
    },
    {
      "cell_type": "code",
      "source": [
        "from pyspark.ml.evaluation import MulticlassClassificationEvaluator\n",
        "from pyspark.mllib.evaluation import MulticlassMetrics"
      ],
      "metadata": {
        "id": "h0_-7mEuBbIR"
      },
      "execution_count": 14,
      "outputs": []
    },
    {
      "cell_type": "markdown",
      "source": [
        "Logistic Regression"
      ],
      "metadata": {
        "id": "tBHNg09d9ALK"
      }
    },
    {
      "cell_type": "code",
      "source": [
        "from pyspark.ml.classification import LogisticRegression\n",
        "\n",
        "lr = LogisticRegression(featuresCol='features',\n",
        "                        labelCol='label',\n",
        "                        family=\"multinomial\",\n",
        "                        regParam=0.2,\n",
        "                        elasticNetParam=0,\n",
        "                        maxIter=75)\n",
        "\n",
        "\n",
        "\n",
        "lrModel = lr.fit(train)\n",
        "predictions_lr = lrModel.transform(test)\n",
        "predictions_lr.select(\"Text\", 'probability','prediction', 'label').show()"
      ],
      "metadata": {
        "colab": {
          "base_uri": "https://localhost:8080/"
        },
        "id": "A2NtQADPAkkq",
        "outputId": "8e2e4858-3efc-4979-ccea-db79cef70780"
      },
      "execution_count": 15,
      "outputs": [
        {
          "output_type": "stream",
          "name": "stdout",
          "text": [
            "+--------------------+--------------------+----------+-----+\n",
            "|                Text|         probability|prediction|label|\n",
            "+--------------------+--------------------+----------+-----+\n",
            "|Bene I am super i...|[3.33130760887629...|       1.0|    1|\n",
            "|Bene Wonderful pl...|[3.12947606635848...|       1.0|    1|\n",
            "|Eating Love Fabul...|[3.28519105145141...|       1.0|    1|\n",
            "|Fenny's Nice ambi...|[4.39339608578353...|       1.0|    1|\n",
            "|Fenny's Visited f...|[5.41012693020837...|       1.0|    1|\n",
            "|Little Italy  It'...|[4.14555958080280...|       1.0|    1|\n",
            "|Little Italy  Lik...|[4.02591383343747...|       1.0|    1|\n",
            "|Little Italy  Man...|[3.77495981139293...|       1.0|    1|\n",
            "|Pasta Street  Pas...|[4.20142122133089...|       1.0|    1|\n",
            "|Tiamo Best poolsi...|[4.12208348434263...|       1.0|    1|\n",
            "|Tiamo Great servi...|[2.97930974471684...|       1.0|    1|\n",
            "|Tiamo We had the ...|[1.91811523434016...|       1.0|    1|\n",
            "|A2B Loved the tas...|[4.75133010978901...|       1.0|    2|\n",
            "|A2B Very less sam...|[4.96795430022382...|       1.0|    2|\n",
            "|Chulha Chauki Da ...|[3.74981488705259...|       2.0|    2|\n",
            "|Chulha Chauki Da ...|[4.16716219790843...|       2.0|    2|\n",
            "|Chulha Chauki Da ...|[2.28339685533278...|       2.0|    2|\n",
            "|Halli Mane Halli ...|[4.72157777858096...|       2.0|    2|\n",
            "|Halli Mane This w...|[5.21315482254494...|       4.0|    2|\n",
            "|Karnatic Good pla...|[5.22648367103100...|       1.0|    2|\n",
            "+--------------------+--------------------+----------+-----+\n",
            "only showing top 20 rows\n",
            "\n"
          ]
        }
      ]
    },
    {
      "cell_type": "code",
      "source": [
        "# to evalute model\n",
        "evaluator= MulticlassClassificationEvaluator(predictionCol=\"prediction\")\n",
        "\n",
        "accuracy_lr=evaluator.evaluate(predictions_lr)\n",
        "print(accuracy_lr)"
      ],
      "metadata": {
        "colab": {
          "base_uri": "https://localhost:8080/"
        },
        "id": "dKFL5_F9BGbQ",
        "outputId": "e5b5063d-9aa1-4a70-fbc2-621314dd73b2"
      },
      "execution_count": 16,
      "outputs": [
        {
          "output_type": "stream",
          "name": "stdout",
          "text": [
            "0.7947361588888168\n"
          ]
        }
      ]
    },
    {
      "cell_type": "code",
      "source": [
        "# Calculate precision\n",
        "evaluator.setMetricName(\"weightedPrecision\")\n",
        "evaluator.evaluate(predictions_lr)"
      ],
      "metadata": {
        "id": "RBEX-jgkfLxB",
        "outputId": "660c112b-4029-4b13-a4bd-16b09bc84b56",
        "colab": {
          "base_uri": "https://localhost:8080/"
        }
      },
      "execution_count": 17,
      "outputs": [
        {
          "output_type": "execute_result",
          "data": {
            "text/plain": [
              "0.8898847631241997"
            ]
          },
          "metadata": {},
          "execution_count": 17
        }
      ]
    },
    {
      "cell_type": "code",
      "source": [
        "# Calculate recall\n",
        "evaluator.setMetricName(\"weightedRecall\")\n",
        "evaluator.evaluate(predictions_lr)"
      ],
      "metadata": {
        "id": "bFtEGaUffLqm",
        "outputId": "f00b6326-90fc-4f1b-bd1e-0a41278fd88d",
        "colab": {
          "base_uri": "https://localhost:8080/"
        }
      },
      "execution_count": 18,
      "outputs": [
        {
          "output_type": "execute_result",
          "data": {
            "text/plain": [
              "0.8028169014084507"
            ]
          },
          "metadata": {},
          "execution_count": 18
        }
      ]
    },
    {
      "cell_type": "code",
      "source": [
        "# Calculate F1 score\n",
        "evaluator.setMetricName(\"f1\")\n",
        "evaluator.evaluate(predictions_lr)"
      ],
      "metadata": {
        "id": "-KU45ZnWfLi3",
        "outputId": "1efcde01-c79b-4e87-8831-f9292b6d676b",
        "colab": {
          "base_uri": "https://localhost:8080/"
        }
      },
      "execution_count": 19,
      "outputs": [
        {
          "output_type": "execute_result",
          "data": {
            "text/plain": [
              "0.7947361588888168"
            ]
          },
          "metadata": {},
          "execution_count": 19
        }
      ]
    },
    {
      "cell_type": "markdown",
      "source": [
        "Random Forest"
      ],
      "metadata": {
        "id": "hkOPIvP8BynB"
      }
    },
    {
      "cell_type": "code",
      "source": [
        "from pyspark.ml.classification import RandomForestClassifier\n",
        "\n",
        "rf = RandomForestClassifier(featuresCol='features', labelCol='label', numTrees=250, maxDepth=17, maxBins=32)\n",
        "rf_model = rf.fit(train)\n",
        "predictions_rf = rf_model.transform(test)\n",
        "predictions_rf.select(\"Text\", 'probability','prediction', 'label').show()"
      ],
      "metadata": {
        "id": "NRLcRxR1B0jc",
        "colab": {
          "base_uri": "https://localhost:8080/"
        },
        "outputId": "dbeaf212-dcbd-4c08-bcab-d73cfedaade5"
      },
      "execution_count": 20,
      "outputs": [
        {
          "output_type": "stream",
          "name": "stdout",
          "text": [
            "+--------------------+--------------------+----------+-----+\n",
            "|                Text|         probability|prediction|label|\n",
            "+--------------------+--------------------+----------+-----+\n",
            "|Bene I am super i...|[0.0,0.3745901828...|       1.0|    1|\n",
            "|Bene Wonderful pl...|[0.0,0.3825993656...|       1.0|    1|\n",
            "|Eating Love Fabul...|[0.0,0.3441024360...|       1.0|    1|\n",
            "|Fenny's Nice ambi...|[0.0,0.3598639763...|       1.0|    1|\n",
            "|Fenny's Visited f...|[0.0,0.3385960656...|       1.0|    1|\n",
            "|Little Italy  It'...|[0.0,0.3533635509...|       1.0|    1|\n",
            "|Little Italy  Lik...|[0.0,0.3914164056...|       1.0|    1|\n",
            "|Little Italy  Man...|[0.0,0.3849218584...|       1.0|    1|\n",
            "|Pasta Street  Pas...|[0.0,0.4081459692...|       1.0|    1|\n",
            "|Tiamo Best poolsi...|[0.0,0.3517412421...|       1.0|    1|\n",
            "|Tiamo Great servi...|[0.0,0.3469166765...|       1.0|    1|\n",
            "|Tiamo We had the ...|[0.0,0.3673055453...|       1.0|    1|\n",
            "|A2B Loved the tas...|[0.0,0.2847246908...|       1.0|    2|\n",
            "|A2B Very less sam...|[0.0,0.2605864140...|       1.0|    2|\n",
            "|Chulha Chauki Da ...|[0.0,0.1658777150...|       2.0|    2|\n",
            "|Chulha Chauki Da ...|[0.0,0.1328741974...|       2.0|    2|\n",
            "|Chulha Chauki Da ...|[0.0,0.1313877118...|       2.0|    2|\n",
            "|Halli Mane Halli ...|[0.0,0.2099084073...|       2.0|    2|\n",
            "|Halli Mane This w...|[0.0,0.2339064855...|       2.0|    2|\n",
            "|Karnatic Good pla...|[0.0,0.2821466036...|       1.0|    2|\n",
            "+--------------------+--------------------+----------+-----+\n",
            "only showing top 20 rows\n",
            "\n"
          ]
        }
      ]
    },
    {
      "cell_type": "code",
      "source": [
        "evaluator = MulticlassClassificationEvaluator(metricName='accuracy')\n",
        "accuracy_rf = evaluator.evaluate(predictions_rf)\n",
        "print(\"Random Forest Classifier Accuracy:\", accuracy_rf)\n"
      ],
      "metadata": {
        "colab": {
          "base_uri": "https://localhost:8080/"
        },
        "id": "LXtH9MsZB0o7",
        "outputId": "3995f655-5083-4793-b1b3-c9741870b28b"
      },
      "execution_count": 21,
      "outputs": [
        {
          "output_type": "stream",
          "name": "stdout",
          "text": [
            "Random Forest Classifier Accuracy: 0.8873239436619719\n"
          ]
        }
      ]
    },
    {
      "cell_type": "code",
      "source": [
        "# Calculate precision\n",
        "evaluator.setMetricName(\"weightedPrecision\")\n",
        "evaluator.evaluate(predictions_rf)"
      ],
      "metadata": {
        "id": "BWClUNJVfg3l",
        "outputId": "7c2c815c-36c7-42e1-b512-c56bb2540a1d",
        "colab": {
          "base_uri": "https://localhost:8080/"
        }
      },
      "execution_count": 22,
      "outputs": [
        {
          "output_type": "execute_result",
          "data": {
            "text/plain": [
              "0.9249275557652132"
            ]
          },
          "metadata": {},
          "execution_count": 22
        }
      ]
    },
    {
      "cell_type": "code",
      "source": [
        "# Calculate recall\n",
        "evaluator.setMetricName(\"weightedRecall\")\n",
        "evaluator.evaluate(predictions_rf)"
      ],
      "metadata": {
        "id": "UuyCZKGufgr4",
        "outputId": "1a7a5e0d-d8fc-4a2f-d415-1b0c876e4862",
        "colab": {
          "base_uri": "https://localhost:8080/"
        }
      },
      "execution_count": 24,
      "outputs": [
        {
          "output_type": "execute_result",
          "data": {
            "text/plain": [
              "0.8873239436619719"
            ]
          },
          "metadata": {},
          "execution_count": 24
        }
      ]
    },
    {
      "cell_type": "code",
      "source": [
        "# Calculate F1 score\n",
        "evaluator.setMetricName(\"f1\")\n",
        "evaluator.evaluate(predictions_rf)"
      ],
      "metadata": {
        "id": "mH1RXm2BfgfV",
        "outputId": "f47a46e2-311f-4164-c53c-d4239da0743d",
        "colab": {
          "base_uri": "https://localhost:8080/"
        }
      },
      "execution_count": 25,
      "outputs": [
        {
          "output_type": "execute_result",
          "data": {
            "text/plain": [
              "0.8783040373226652"
            ]
          },
          "metadata": {},
          "execution_count": 25
        }
      ]
    },
    {
      "cell_type": "markdown",
      "source": [
        "Decision Tree"
      ],
      "metadata": {
        "id": "wtdaR3t0-lJD"
      }
    },
    {
      "cell_type": "code",
      "source": [
        "from pyspark.ml.classification import DecisionTreeClassifier\n",
        "\n",
        "dt = DecisionTreeClassifier(featuresCol = 'features', labelCol = 'label', maxDepth = 10)\n",
        "dtModel = dt.fit(train)\n",
        "\n",
        "#Prediction\n",
        "predictions_dt = dtModel.transform(test)\n",
        "\n",
        "predictions_dt.select(\"Text\", 'probability','prediction', 'label').show()"
      ],
      "metadata": {
        "colab": {
          "base_uri": "https://localhost:8080/"
        },
        "id": "hm6QWKvRAMTy",
        "outputId": "28ada273-93d3-4d12-e08b-66a668a8c598"
      },
      "execution_count": 26,
      "outputs": [
        {
          "output_type": "stream",
          "name": "stdout",
          "text": [
            "+--------------------+--------------------+----------+-----+\n",
            "|                Text|         probability|prediction|label|\n",
            "+--------------------+--------------------+----------+-----+\n",
            "|Bene I am super i...|[0.0,0.5058823529...|       1.0|    1|\n",
            "|Bene Wonderful pl...|[0.0,0.5058823529...|       1.0|    1|\n",
            "|Eating Love Fabul...|[0.0,0.5058823529...|       1.0|    1|\n",
            "|Fenny's Nice ambi...|[0.0,0.5058823529...|       1.0|    1|\n",
            "|Fenny's Visited f...|[0.0,0.5058823529...|       1.0|    1|\n",
            "|Little Italy  It'...|[0.0,0.5058823529...|       1.0|    1|\n",
            "|Little Italy  Lik...|[0.0,0.5058823529...|       1.0|    1|\n",
            "|Little Italy  Man...|[0.0,0.5058823529...|       1.0|    1|\n",
            "|Pasta Street  Pas...|[0.0,0.5058823529...|       1.0|    1|\n",
            "|Tiamo Best poolsi...|[0.0,0.5058823529...|       1.0|    1|\n",
            "|Tiamo Great servi...|[0.0,0.5058823529...|       1.0|    1|\n",
            "|Tiamo We had the ...|[0.0,0.5058823529...|       1.0|    1|\n",
            "|A2B Loved the tas...|[0.0,0.0,1.0,0.0,...|       2.0|    2|\n",
            "|A2B Very less sam...|[0.0,0.0,1.0,0.0,...|       2.0|    2|\n",
            "|Chulha Chauki Da ...|[0.0,0.0,1.0,0.0,...|       2.0|    2|\n",
            "|Chulha Chauki Da ...|[0.0,0.0,1.0,0.0,...|       2.0|    2|\n",
            "|Chulha Chauki Da ...|[0.0,0.0,1.0,0.0,...|       2.0|    2|\n",
            "|Halli Mane Halli ...|[0.0,0.5058823529...|       1.0|    2|\n",
            "|Halli Mane This w...|[0.0,0.5058823529...|       1.0|    2|\n",
            "|Karnatic Good pla...|[0.0,0.5058823529...|       1.0|    2|\n",
            "+--------------------+--------------------+----------+-----+\n",
            "only showing top 20 rows\n",
            "\n"
          ]
        }
      ]
    },
    {
      "cell_type": "code",
      "source": [
        "#Evaluating the performance\n",
        "evaluator = MulticlassClassificationEvaluator()\n",
        "evaluator.setLabelCol(\"label\")\n",
        "evaluator.setPredictionCol(\"prediction\")\n",
        "\n",
        "accuracy_dt=evaluator.evaluate(predictions_dt)\n",
        "print(accuracy_dt)"
      ],
      "metadata": {
        "colab": {
          "base_uri": "https://localhost:8080/"
        },
        "id": "7AlDU5fd-nRn",
        "outputId": "5cbefd1f-9081-412a-b68f-872ffd45acc3"
      },
      "execution_count": 27,
      "outputs": [
        {
          "output_type": "stream",
          "name": "stdout",
          "text": [
            "0.724034725594949\n"
          ]
        }
      ]
    },
    {
      "cell_type": "code",
      "source": [
        "# Calculate precision\n",
        "evaluator.setMetricName(\"weightedPrecision\")\n",
        "evaluator.evaluate(predictions_dt)"
      ],
      "metadata": {
        "id": "Mixj1fSnfyWh",
        "outputId": "5fbab88d-9e07-42c7-b336-66741ac08064",
        "colab": {
          "base_uri": "https://localhost:8080/"
        }
      },
      "execution_count": 28,
      "outputs": [
        {
          "output_type": "execute_result",
          "data": {
            "text/plain": [
              "0.8924455825864277"
            ]
          },
          "metadata": {},
          "execution_count": 28
        }
      ]
    },
    {
      "cell_type": "code",
      "source": [
        "# Calculate recall\n",
        "evaluator.setMetricName(\"weightedRecall\")\n",
        "evaluator.evaluate(predictions_dt)"
      ],
      "metadata": {
        "id": "VRWufNFcfyN5",
        "outputId": "548c9122-5e47-4590-9063-81492eb02a7d",
        "colab": {
          "base_uri": "https://localhost:8080/"
        }
      },
      "execution_count": 29,
      "outputs": [
        {
          "output_type": "execute_result",
          "data": {
            "text/plain": [
              "0.7042253521126761"
            ]
          },
          "metadata": {},
          "execution_count": 29
        }
      ]
    },
    {
      "cell_type": "code",
      "source": [
        "# Calculate F1 score\n",
        "evaluator.setMetricName(\"f1\")\n",
        "evaluator.evaluate(predictions_dt)"
      ],
      "metadata": {
        "id": "dMY0-GJZfyKf",
        "outputId": "f6e7b204-213b-4f9c-908a-96b552d4bc22",
        "colab": {
          "base_uri": "https://localhost:8080/"
        }
      },
      "execution_count": 30,
      "outputs": [
        {
          "output_type": "execute_result",
          "data": {
            "text/plain": [
              "0.724034725594949"
            ]
          },
          "metadata": {},
          "execution_count": 30
        }
      ]
    },
    {
      "cell_type": "code",
      "source": [
        "%matplotlib inline\n",
        "import matplotlib.pyplot as plt\n"
      ],
      "metadata": {
        "id": "jW1dzAVy7NOX"
      },
      "execution_count": 31,
      "outputs": []
    },
    {
      "cell_type": "code",
      "source": [
        "x=['LR','DT','RF']\n",
        "y=[accuracy_lr,accuracy_dt,accuracy_rf]\n",
        "\n",
        "plt.bar(x,y,width=0.7,color='green')\n",
        "plt.xlabel(\"ML Model\")\n",
        "plt.ylabel(\"Accuracy\")\n",
        "\n"
      ],
      "metadata": {
        "colab": {
          "base_uri": "https://localhost:8080/",
          "height": 466
        },
        "id": "qj2x5TBE8NX-",
        "outputId": "4da1cdff-c716-4091-f488-0585de79407a"
      },
      "execution_count": 32,
      "outputs": [
        {
          "output_type": "execute_result",
          "data": {
            "text/plain": [
              "Text(0, 0.5, 'Accuracy')"
            ]
          },
          "metadata": {},
          "execution_count": 32
        },
        {
          "output_type": "display_data",
          "data": {
            "text/plain": [
              "<Figure size 640x480 with 1 Axes>"
            ],
            "image/png": "[encoded data removed]"
          },
          "metadata": {}
        }
      ]
    },
    {
      "cell_type": "code",
      "source": [
        "# Create a dictionary to map label numbers to cuisine names\n",
        "cuisine_labels = {\n",
        "    1: 'italian',\n",
        "    2: 'indian',\n",
        "    3: 'mexican',\n",
        "    4: 'korean',\n",
        "    5: 'chinese'\n",
        "}\n",
        "\n",
        "# Display the cuisine labels and their names\n",
        "print(\"Cuisine Labels and Names:\")\n",
        "for label, cuisine in cuisine_labels.items():\n",
        "    print(f\"{label}\\t{cuisine}\")\n"
      ],
      "metadata": {
        "id": "Rcsclz_42RQb",
        "outputId": "daa5fb46-c4fc-4ad9-eba3-422e4b3bc3fc",
        "colab": {
          "base_uri": "https://localhost:8080/"
        }
      },
      "execution_count": 33,
      "outputs": [
        {
          "output_type": "stream",
          "name": "stdout",
          "text": [
            "Cuisine Labels and Names:\n",
            "1\titalian\n",
            "2\tindian\n",
            "3\tmexican\n",
            "4\tkorean\n",
            "5\tchinese\n"
          ]
        }
      ]
    },
    {
      "cell_type": "code",
      "source": [
        "label_input = int(input(\"Enter the label (1, 2, 3, 4, or 5) for the cuisine you want  \"))\n",
        "from pyspark.sql.functions import avg, col\n",
        "\n",
        "# Group by 'label' and 'Restaurant', calculate the average rating for each restaurant\n",
        "avg_ratings_df = data.groupBy('label', 'Restaurant','Location').agg(avg(col('rating(stars)')).alias('avg_rating'))\n",
        "\n",
        "# Filter the restaurants with average ratings above 3.5 for the specified cuisine (label_input)\n",
        "filtered_avg_ratings_df = avg_ratings_df.filter((avg_ratings_df['avg_rating'] > 4) & (avg_ratings_df['label'] == label_input))\n",
        "\n",
        "# Show the filtered DataFrame with restaurants having average ratings above 3.5 for the specified cuisine\n",
        "filtered_avg_ratings_df.show()\n"
      ],
      "metadata": {
        "id": "noKK3tuW-u2J",
        "colab": {
          "base_uri": "https://localhost:8080/"
        },
        "outputId": "bf685189-0988-4dd1-d262-b087f9b7a119"
      },
      "execution_count": 34,
      "outputs": [
        {
          "output_type": "stream",
          "name": "stdout",
          "text": [
            "Enter the label (1, 2, 3, 4, or 5) for the cuisine you want  2\n",
            "+-----+--------------------+------------+-----------------+\n",
            "|label|          Restaurant|    Location|       avg_rating|\n",
            "+-----+--------------------+------------+-----------------+\n",
            "|    2|        Vishnu grand|    Sarjapur|              5.0|\n",
            "|    2|Chulha Chauki Da ...|    JP Nagar|4.181818181818182|\n",
            "|    2|          Paakashala|     MG Road|              4.4|\n",
            "|    2|    Moti Mahal Delux|         HSR|              4.2|\n",
            "|    2|          Halli Mane|Malleshwaram|4.142857142857143|\n",
            "|    2|            Karnatic|   Church St|              4.4|\n",
            "+-----+--------------------+------------+-----------------+\n",
            "\n"
          ]
        }
      ]
    },
    {
      "cell_type": "code",
      "source": [
        "%%writefile app.py\n",
        "\n",
        "import streamlit as st\n",
        "from pyspark.sql import SparkSession\n",
        "from pyspark.ml import Pipeline\n",
        "from pyspark.ml.feature import RegexTokenizer, StopWordsRemover, HashingTF, IDF\n",
        "from pyspark.ml.classification import LogisticRegression\n",
        "from pyspark.ml.evaluation import MulticlassClassificationEvaluator\n",
        "from pyspark.sql.functions import concat_ws\n",
        "from PIL import Image\n",
        "\n",
        "# Create SparkSession\n",
        "spark = SparkSession.builder.appName(\"StreamlitDemo\").getOrCreate()\n",
        "\n",
        "# Load dataset\n",
        "df1= spark.read.csv(\"BDA.csv\", inferSchema=True, header=True)\n",
        "# df1 = df1.withColumnRenamed('Class Index', 'label')\n",
        "df = spark.read.csv(\"BDA.csv\", inferSchema=True, header=True)\n",
        "# df = df.withColumnRenamed('Class Index', 'label')\n",
        "df = df.withColumn(\"Text\", concat_ws(\" \", df.Restaurant, df.Review))\n",
        "df = df.select('label', 'Text')\n",
        "\n",
        "# Tokenizer\n",
        "tokenizer = RegexTokenizer(inputCol=\"Text\", outputCol=\"words\", pattern=\"\\\\W\")\n",
        "# Stopwords remover\n",
        "stopwords_remover = StopWordsRemover(inputCol=\"words\", outputCol=\"filtered\")\n",
        "# Term frequency\n",
        "hashing_tf = HashingTF(inputCol=\"filtered\", outputCol=\"raw_features\", numFeatures=10000)\n",
        "\n",
        "# Inverse Document Frequency - vectorizer\n",
        "idf = IDF(inputCol=\"raw_features\", outputCol=\"features\")\n",
        "\n",
        "# Model\n",
        "rf = RandomForestClassifier(featuresCol='features', labelCol='label', family=\"multinomial\", regParam=0.3, elasticNetParam=0, maxIter=50)\n",
        "\n",
        "# Create pipeline\n",
        "pipeline = Pipeline(stages=[tokenizer, stopwords_remover, hashing_tf, idf, rf])\n",
        "\n",
        "# Fit the pipeline to training documents\n",
        "pipelineFit = pipeline.fit(df)\n",
        "\n",
        "# Transform the dataset\n",
        "dataset = pipelineFit.transform(df)\n",
        "\n",
        "# Define label-category mapping\n",
        "label_mapping = {\n",
        "    1: \"Italian\",\n",
        "    2: \"Indian\",\n",
        "    3: \"Mexican\",\n",
        "    4: \"Korean\",\n",
        "    5: \"Chinese\"\n",
        "}\n",
        "\n",
        "# Define a function to display predictions\n",
        "@st.cache\n",
        "def show_predictions(dataset, num_predictions=10):\n",
        "    predictions = dataset.select(\"Text\", \"prediction\").take(num_predictions)\n",
        "    for prediction in predictions:\n",
        "        text = prediction.Text\n",
        "        prediction_label = int(prediction.prediction)\n",
        "        category = label_mapping.get(prediction_label, \"Unknown\")\n",
        "        st.write(\"Text:\", text)\n",
        "        st.write(\"Label:\", prediction_label)\n",
        "        st.write(\"Category:\", category)\n",
        "        st.write(\"--------------------\")\n",
        "\n",
        "image_paths = {\n",
        "    1: \"italian.png\",\n",
        "    2: \"indian.png\",\n",
        "    3: \"mexican.png\",\n",
        "    4: \"korean.png\",\n",
        "    5: \"chinese.png\"\n",
        "}\n",
        "# Streamlit app\n",
        "def main():\n",
        "    image = Image.open(\"logo.png\")\n",
        "    st.sidebar.image(image, use_column_width=False)\n",
        "    st.title(\"Restaurant Review Classification\")\n",
        "    # st.sidebar.title(\"Options\")\n",
        "\n",
        "    # User input\n",
        "    user_input = st.text_input(\"Enter your text\", \"\")\n",
        "\n",
        "    if user_input:\n",
        "        # Create a Spark DataFrame from the user input\n",
        "        input_df = spark.createDataFrame([(0, user_input)], [\"label\", \"Text\"])\n",
        "        # Transform the user input using the pipeline\n",
        "        input_dataset = pipelineFit.transform(input_df)\n",
        "        # Predict the label for the user input\n",
        "        prediction = input_dataset.select(\"Text\", \"prediction\").first()\n",
        "        # Display the prediction\n",
        "        text = prediction.Text\n",
        "        prediction_label = int(prediction.prediction)\n",
        "        category = label_mapping.get(prediction_label, \"Unknown\")\n",
        "        st.write(\"Input Text:\", text)\n",
        "        st.write(\"Label:\", prediction_label)\n",
        "        st.write(\"Category:\", category)\n",
        "        image_path = image_paths.get(prediction_label)\n",
        "        if image_path:\n",
        "            image = Image.open(image_path)\n",
        "            st.sidebar.image(image, use_column_width=True)\n",
        "        st.write(\"--------------------\")\n",
        "\n",
        "    # Display predictions\n",
        "    cuisine_input = st.text_input(\"Enter cuisine label to get restaurant recommendations\", \"\")\n",
        "    if cuisine_input:\n",
        "        cuisine_label = int(cuisine_input)\n",
        "        if cuisine_label in label_mapping:\n",
        "            selected_cuisine = label_mapping[cuisine_label]\n",
        "            st.write(\"Restaurant Recommendations for\", selected_cuisine)\n",
        "           # recommended_restaurants = data.filter((data['Class Index'] == cuisine_label) & (data['rank'] <= 3)).select('Restaurant')\n",
        "           # recommended_restaurants=recommended_restaurants.dropDuplicates()\n",
        "            selected_restaurants = df1.filter((df1.label == cuisine_label)& (df1['rank'] <= 3)).select(\"Restaurant\").distinct()\n",
        "            for row in selected_restaurants.collect():\n",
        "                st.write(\"- \" + row.Restaurant)\n",
        "        else:\n",
        "            st.write(\"Invalid cuisine label. Please enter a valid label.\")\n",
        "\n",
        "\n",
        "if __name__ == \"__main__\":\n",
        "    main()\n",
        "\n",
        "\n",
        "\n",
        "\n"
      ],
      "metadata": {
        "id": "FSu9i5qHWjSq",
        "colab": {
          "base_uri": "https://localhost:8080/"
        },
        "outputId": "1d1a29bb-3c04-447c-b28a-f3ec518d136c"
      },
      "execution_count": 35,
      "outputs": [
        {
          "output_type": "stream",
          "name": "stdout",
          "text": [
            "Writing app.py\n"
          ]
        }
      ]
    },
    {
      "cell_type": "code",
      "source": [
        "!pip install pyngrok\n",
        "from pyngrok import ngrok"
      ],
      "metadata": {
        "id": "HaqPL1oIXSee",
        "outputId": "4db07ad5-312e-4548-9447-69047966b401",
        "colab": {
          "base_uri": "https://localhost:8080/"
        }
      },
      "execution_count": 36,
      "outputs": [
        {
          "output_type": "stream",
          "name": "stdout",
          "text": [
            "Collecting pyngrok\n",
            "  Downloading pyngrok-6.0.0.tar.gz (681 kB)\n",
            "\u001b[?25l     \u001b[90m━━━━━━━━━━━━━━━━━━━━━━━━━━━━━━━━━━━━━━━━\u001b[0m \u001b[32m0.0/681.2 kB\u001b[0m \u001b[31m?\u001b[0m eta \u001b[36m-:--:--\u001b[0m\r\u001b[2K     \u001b[91m━━━━━━━━━━━━━━━━━━━━━━━━━━━━━━━━━━━━━\u001b[0m\u001b[91m╸\u001b[0m \u001b[32m675.8/681.2 kB\u001b[0m \u001b[31m21.8 MB/s\u001b[0m eta \u001b[36m0:00:01\u001b[0m\r\u001b[2K     \u001b[90m━━━━━━━━━━━━━━━━━━━━━━━━━━━━━━━━━━━━━━\u001b[0m \u001b[32m681.2/681.2 kB\u001b[0m \u001b[31m16.7 MB/s\u001b[0m eta \u001b[36m0:00:00\u001b[0m\n",
            "\u001b[?25h  Preparing metadata (setup.py) ... \u001b[?25l\u001b[?25hdone\n",
            "Requirement already satisfied: PyYAML in /usr/local/lib/python3.10/dist-packages (from pyngrok) (6.0.1)\n",
            "Building wheels for collected packages: pyngrok\n",
            "  Building wheel for pyngrok (setup.py) ... \u001b[?25l\u001b[?25hdone\n",
            "  Created wheel for pyngrok: filename=pyngrok-6.0.0-py3-none-any.whl size=19867 sha256=b502a18735addfd9a302c7b34efcd5597f21a69a8218452a5adc745dc156bc02\n",
            "  Stored in directory: /root/.cache/pip/wheels/5c/42/78/0c3d438d7f5730451a25f7ac6cbf4391759d22a67576ed7c2c\n",
            "Successfully built pyngrok\n",
            "Installing collected packages: pyngrok\n",
            "Successfully installed pyngrok-6.0.0\n"
          ]
        }
      ]
    },
    {
      "cell_type": "code",
      "source": [
        "!ngrok authtoken 2QMPMg2l91w7PQQgLvLMI9725dr_7oX73Wabue7BRM2REnbAz  # give your AuthToken from your ngrok account"
      ],
      "metadata": {
        "id": "a_k1GZ9SheuW",
        "outputId": "d5b8b4d2-5911-44f9-dac6-56b967b563d6",
        "colab": {
          "base_uri": "https://localhost:8080/"
        }
      },
      "execution_count": 39,
      "outputs": [
        {
          "output_type": "stream",
          "name": "stdout",
          "text": [
            "Authtoken saved to configuration file: /root/.ngrok2/ngrok.yml\n"
          ]
        }
      ]
    },
    {
      "cell_type": "code",
      "source": [
        "!streamlit run app.py &>/dev/null&"
      ],
      "metadata": {
        "id": "53F7pgWChSok"
      },
      "execution_count": 38,
      "outputs": []
    },
    {
      "cell_type": "code",
      "source": [
        "!pip install pyngrok\n",
        "from pyngrok import ngrok"
      ],
      "metadata": {
        "id": "m6wUKQE1hhho",
        "outputId": "315f858d-572c-4ab5-9e71-c31921b238d2",
        "colab": {
          "base_uri": "https://localhost:8080/"
        }
      },
      "execution_count": 40,
      "outputs": [
        {
          "output_type": "stream",
          "name": "stdout",
          "text": [
            "Requirement already satisfied: pyngrok in /usr/local/lib/python3.10/dist-packages (6.0.0)\n",
            "Requirement already satisfied: PyYAML in /usr/local/lib/python3.10/dist-packages (from pyngrok) (6.0.1)\n"
          ]
        }
      ]
    },
    {
      "cell_type": "code",
      "source": [
        "ngrok_tunnel = ngrok.connect(3000)\n",
        "ngrok_tunnel"
      ],
      "metadata": {
        "id": "ch7qAef1hlPw",
        "outputId": "6c37e8af-862d-4489-96fe-045bc0e39ad0",
        "colab": {
          "base_uri": "https://localhost:8080/"
        }
      },
      "execution_count": 41,
      "outputs": [
        {
          "output_type": "stream",
          "name": "stderr",
          "text": [
            "WARNING:pyngrok.process.ngrok:t=2023-08-29T12:18:45+0000 lvl=warn msg=\"ngrok config file found at legacy location, move to XDG location\" xdg_path=/root/.config/ngrok/ngrok.yml legacy_path=/root/.ngrok2/ngrok.yml\n",
            "WARNING:pyngrok.process.ngrok:t=2023-08-29T12:18:45+0000 lvl=warn msg=\"can't bind default web address, trying alternatives\" obj=web addr=127.0.0.1:4040\n"
          ]
        },
        {
          "output_type": "execute_result",
          "data": {
            "text/plain": [
              "<NgrokTunnel: \"https://f0c4-34-85-224-46.ngrok-free.app\" -> \"http://localhost:3000\">"
            ]
          },
          "metadata": {},
          "execution_count": 41
        }
      ]
    }
  ]
}